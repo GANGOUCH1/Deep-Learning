{
 "cells": [
  {
   "cell_type": "code",
   "execution_count": 1,
   "metadata": {},
   "outputs": [
    {
     "name": "stdout",
     "output_type": "stream",
     "text": [
      "PyTorch version  2.5.1+cpu\n",
      "Cuda available  False\n"
     ]
    }
   ],
   "source": [
    "import torch \n",
    "print(\"PyTorch version \",torch.__version__)\n",
    "print(\"Cuda available \",torch.cuda.is_available ())"
   ]
  },
  {
   "cell_type": "code",
   "execution_count": 2,
   "metadata": {},
   "outputs": [],
   "source": [
    "import torch \n",
    "import torch.nn as nn \n",
    "import torch.optim as optim\n"
   ]
  },
  {
   "cell_type": "code",
   "execution_count": 4,
   "metadata": {},
   "outputs": [],
   "source": [
    "X = torch.tensor([[1.0], [2.0], [3.0], [4.0]], requires_grad=True)"
   ]
  },
  {
   "cell_type": "code",
   "execution_count": 6,
   "metadata": {},
   "outputs": [
    {
     "name": "stdout",
     "output_type": "stream",
     "text": [
      "tensor :  tensor([1., 2., 3., 4.])\n",
      "toorch : tensor([ 1.,  4.,  9., 16.])\n"
     ]
    }
   ],
   "source": [
    "X = torch.tensor([1.0,2.0, 3.0, 4.0])\n",
    "print(\"tensor : \",X )\n",
    "\n",
    "y = X **2 \n",
    "print(\"toorch :\", y )\n"
   ]
  },
  {
   "cell_type": "code",
   "execution_count": null,
   "metadata": {},
   "outputs": [],
   "source": [
    "def inialisation(n):\n",
    "    w1 = np.random.randn(n1,n2)\n",
    "    b1 = np.random.randn(n2, 1)\n",
    "    w2 = np.random.randn(n2, n1)\n",
    "    b2 = np.random.randn(n2,n1)"
   ]
  },
  {
   "cell_type": "code",
   "execution_count": null,
   "metadata": {},
   "outputs": [],
   "source": []
  }
 ],
 "metadata": {
  "kernelspec": {
   "display_name": "Python 3",
   "language": "python",
   "name": "python3"
  },
  "language_info": {
   "codemirror_mode": {
    "name": "ipython",
    "version": 3
   },
   "file_extension": ".py",
   "mimetype": "text/x-python",
   "name": "python",
   "nbconvert_exporter": "python",
   "pygments_lexer": "ipython3",
   "version": "3.12.8"
  }
 },
 "nbformat": 4,
 "nbformat_minor": 2
}
